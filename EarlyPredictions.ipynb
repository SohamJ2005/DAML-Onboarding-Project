{
  "nbformat": 4,
  "nbformat_minor": 0,
  "metadata": {
    "colab": {
      "provenance": [],
      "authorship_tag": "ABX9TyOA5r1nXQGMvboJP1J2Mhr+",
      "include_colab_link": true
    },
    "kernelspec": {
      "name": "python3",
      "display_name": "Python 3"
    },
    "language_info": {
      "name": "python"
    }
  },
  "cells": [
    {
      "cell_type": "markdown",
      "metadata": {
        "id": "view-in-github",
        "colab_type": "text"
      },
      "source": [
        "<a href=\"https://colab.research.google.com/github/SohamJ2005/DAML-Onboarding-Project/blob/main/EarlyPredictions.ipynb\" target=\"_parent\"><img src=\"https://colab.research.google.com/assets/colab-badge.svg\" alt=\"Open In Colab\"/></a>"
      ]
    },
    {
      "cell_type": "code",
      "source": [
        "import pandas as pd\n",
        "import requests\n",
        "from io import StringIO\n",
        "\n",
        "# https://www.football-data.co.uk/mmz4281/[SEASON_CODE]/[LEAGUE_CODE].csv\n",
        "# 2425 is Season 2024/25, E0 is English Premier League\n",
        "\n",
        "url = \"https://www.football-data.co.uk/mmz4281/2425/E0.csv\"  # EPL 2024/2025 Season\n",
        "response = requests.get(url)\n",
        "\n",
        "if response.status_code == 200:  # Check if the request was successful\n",
        "    # Convert the CSV content to a Pandas DataFrame\n",
        "    csv_data = StringIO(response.text)  # Treat the content as a file-like object\n",
        "    data = pd.read_csv(csv_data)\n",
        "\n",
        "    # Display the first few rows of the DataFrame\n",
        "    #print(data.head())\n",
        "else:\n",
        "    print(f\"Failed to download data. HTTP status code: {response.status_code}\")\n",
        "total_null_values = data.isnull().sum().sum()\n",
        "print(f\"Total number of null values in the DataFrame: {total_null_values}\")\n",
        "\n",
        "# Get positions of null values\n",
        "null_positions = data.isnull().stack().reset_index()\n",
        "null_positions.columns = ['Row', 'Column', 'IsNull']\n",
        "null_positions = null_positions[null_positions['IsNull']]\n",
        "\n",
        "print(null_positions[['Row', 'Column']])"
      ],
      "metadata": {
        "colab": {
          "base_uri": "https://localhost:8080/"
        },
        "id": "Y2mZ4eAQ22rB",
        "outputId": "957f1e34-85b5-492a-a158-6e196fe0c734"
      },
      "execution_count": 14,
      "outputs": [
        {
          "output_type": "stream",
          "name": "stdout",
          "text": [
            "Total number of null values in the DataFrame: 6\n",
            "      Row   Column\n",
            "1619   13  BFE>2.5\n",
            "1620   13  BFE<2.5\n",
            "1979   16  BFE>2.5\n",
            "1980   16  BFE<2.5\n",
            "2339   19  BFE>2.5\n",
            "2340   19  BFE<2.5\n"
          ]
        }
      ]
    },
    {
      "cell_type": "markdown",
      "source": [
        "**How to do multiple seasons**"
      ],
      "metadata": {
        "id": "t5I_e2jB80io"
      }
    },
    {
      "cell_type": "code",
      "source": [
        "# seasons = [\"2324\", \"2223\"]  # Example seasons\n",
        "# leagues = [\"E0\", \"SP1\"]  # Premier League (E0), La Liga (SP1)\n",
        "\n",
        "# data_frames = []\n",
        "\n",
        "# for season in seasons:\n",
        "#     for league in leagues:\n",
        "#         url = f\"https://www.football-data.co.uk/mmz4281/{season}/{league}.csv\"\n",
        "#         response = requests.get(url)\n",
        "\n",
        "#         if response.status_code == 200:\n",
        "#             csv_data = StringIO(response.text)\n",
        "#             df = pd.read_csv(csv_data)\n",
        "#             df[\"Season\"] = season  # Add a season column\n",
        "#             df[\"League\"] = league  # Add a league column\n",
        "#             data_frames.append(df)\n",
        "#         else:\n",
        "#             print(f\"Failed to download data for {season}-{league}\")\n",
        "\n",
        "# # Combine all data into one DataFrame\n",
        "# combined_data = pd.concat(data_frames, ignore_index=True)\n",
        "\n",
        "# # Display the combined DataFrame\n",
        "# print(combined_data.head())"
      ],
      "metadata": {
        "id": "tN6lozeU8w7o"
      },
      "execution_count": null,
      "outputs": []
    },
    {
      "cell_type": "code",
      "source": [],
      "metadata": {
        "id": "ID868Ec93fv4"
      },
      "execution_count": null,
      "outputs": []
    }
  ]
}